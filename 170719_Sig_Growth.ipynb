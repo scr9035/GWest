{
 "cells": [
  {
   "cell_type": "code",
   "execution_count": 1,
   "metadata": {
    "collapsed": true
   },
   "outputs": [],
   "source": [
    "import pandas as pd\n",
    "import matplotlib.pyplot as plt\n",
    "import numpy as np\n",
    "import os\n",
    "from sys import argv\n",
    "from os.path import exists\n",
    "from time import sleep\n",
    "from selenium import webdriver\n",
    "from selenium.webdriver.common.keys import Keys\n",
    "from selenium.webdriver.common.by import By\n",
    "from selenium.webdriver.support.ui import WebDriverWait\n",
    "from selenium.webdriver.support import expected_conditions as EC\n",
    "import selenium\n",
    "import re\n",
    "import requests"
   ]
  },
  {
   "cell_type": "markdown",
   "metadata": {},
   "source": [
    "Defining a function to scrape the data\n",
    "=============\n",
    "\n",
    "The function below scrapes stock data from gurufocus. As of now for each stock symbol it goes to one webpage and saves the Graham number and current stock price and returns the data in a list of lists.\n",
    "\n",
    "Future goals include extending the function to take two inputs; ticker and a list. The list contains [xpath name, and base URL]. The function will then return a list of lists, with each sublist being ticker any other data assciated to n-xpaths in the list.\n",
    "\n",
    "-------------------------------------------------------------------------------------------------------------------------------\n",
    "gnumber = sqrt of (22.5\tx\tTangible Book Value per Share\tx\tEPS without Non-Recurring Items (NRI) (TTM))\n",
    "\n",
    "Peter Lynch fair value [P/E (NRI) Ratio\t/\tEBITDA Growth Rate (5-year average) ]x 5-Year EBITDA Growth Rate\tx\tEarnings Per Share (NRI)"
   ]
  },
  {
   "cell_type": "code",
   "execution_count": 19,
   "metadata": {},
   "outputs": [],
   "source": [
    "def GuruFocusScrape(tickerName, scraped_list):\n",
    "\n",
    "    \"\"\"\n",
    "    Function opens gurufocus.com for a given tickerName and returns some value.\n",
    "    The function needs three inputs, tickerName, baseWebpage, XPath element list\n",
    "    \"\"\"\n",
    "    \n",
    "    baseWebpage = \"https://www.gurufocus.com/stock/\" + tickerName\n",
    "    #print(baseWebpage)\n",
    "\n",
    "    request = requests.get(baseWebpage)\n",
    "    #print(request)\n",
    "    if request.status_code == 200:\n",
    "    \n",
    "        driver = webdriver.Chrome() # Open chrome browser\n",
    "        wait = WebDriverWait(driver, 60) #defines an object that allows an expected condition to call it\n",
    "\n",
    "        driver.get(baseWebpage)\n",
    "        #driver.get(baseWebpage)\n",
    "        \n",
    "        if baseWebpage == driver.current_url:\n",
    "        \n",
    "            elementXPath = '//*[@id=\"cboxClose\"]' # identifier button that closes stupid pop-up\n",
    "\n",
    "            # EC.elment_to... retuns a value of thing that does or doesn't exist, wait.until waits 60s until EC returns True\n",
    "            element = wait.until(EC.element_to_be_clickable((By.XPATH,elementXPath)))\n",
    "            element.click() #clicks element when it becomes clickable\n",
    "       \n",
    "            EPSXpath = '//*[@id=\"wrapper\"]/font/font/div/div[4]/div/table/tbody/tr[2]/td' #earnings-per-share\n",
    "            #PtTBXpath = '//*[@id=\"wrapper\"]/font/font/div/div[3]/table/tbody/tr[2]/td[2]' #price-to-tangible-book-value\n",
    "           \n",
    "            PtTBXpath =  '//*[@id=\"p2tangible_book\"]'\n",
    "            StockPriceXpath = '//*[@id=\"stock_profile_top\"]/div[3]/font[1]' #stock price\n",
    "            PeterLynchRatioXpath = '//*[@id=\"wrapper\"]/font/font/div/div[3]/table/tbody/tr[6]/td[2]' #( PL value)/(Stock Price)\n",
    "            GFStarRankingXpath = '//*[@id=\"unit_ul1888590250\"]/li' #guru focus star rating \n",
    "\n",
    "            try:\n",
    "                EPS = driver.find_element_by_xpath(EPSXpath).text\n",
    "            except:\n",
    "                EPS = 'NA'\n",
    "                \n",
    "            try:\n",
    "                PtTB = driver.find_element_by_xpath(PtTBXpath).text\n",
    "            except:\n",
    "                PtTB = 'NA'\n",
    "                \n",
    "            try:\n",
    "                StockPrice = driver.find_element_by_xpath(StockPriceXpath).text\n",
    "            except:\n",
    "                StockPrice = 'NA'\n",
    "                \n",
    "            try:   \n",
    "                GFStarRanking = driver.find_element_by_xpath(GFStarRankingXpath).text\n",
    "            except:\n",
    "                GFStarRanking = 'NA'\n",
    "                \n",
    "            try:   \n",
    "                PeterLynchRatio = driver.find_element_by_xpath(PeterLynchRatioXpath).text\n",
    "            except:\n",
    "                PeterLynchRatio = 'NA'\n",
    "        \n",
    "        else:\n",
    "            EPS = 'NA'\n",
    "            PtTB = 'NA'\n",
    "            StockPrice = 'NA'\n",
    "            GFStarRanking = 'NA'\n",
    "            PeterLynchRatio = 'NA'\n",
    "    \n",
    "    else:\n",
    "        \n",
    "        EPS = 'NA'\n",
    "        PtTB = 'NA'\n",
    "        StockPrice = 'NA'\n",
    "        GFStarRanking = 'NA'\n",
    "        PeterLynchRatio = 'NA'\n",
    "    \n",
    "    \n",
    "    sleep(5)   \n",
    "    driver.close()\n",
    "    print([tickerName, StockPrice, EPS, PtTB, StockPrice, PeterLynchRatio, GFStarRanking])\n",
    "    return scraped_list.append([tickerName, EPS, PtTB, StockPrice, PeterLynchRatio, GFStarRanking])\n",
    "\n",
    " "
   ]
  },
  {
   "cell_type": "markdown",
   "metadata": {},
   "source": [
    "Stock Tickers:\n",
    "========\n",
    "Obtaining all the nasdaq listed stocks for a given day from the nasdaq website. The list of companies that are traded on the index is given by nasdaq as a text file with delimter '|' and updated daily."
   ]
  },
  {
   "cell_type": "code",
   "execution_count": 17,
   "metadata": {},
   "outputs": [
    {
     "name": "stdout",
     "output_type": "stream",
     "text": [
      "(3210, 8)\n"
     ]
    }
   ],
   "source": [
    "# Assign url of file: url\n",
    "url = 'ftp://ftp.nasdaqtrader.com/symboldirectory/nasdaqlisted.txt'\n",
    "\n",
    "# Read file into a DataFrame: df\n",
    "nasdaq_info = pd.read_csv(url, sep='|')\n",
    "tickers_to_get = nasdaq_info.iloc[0:3,0]\n",
    "print(nasdaq_info.shape)"
   ]
  },
  {
   "cell_type": "markdown",
   "metadata": {},
   "source": [
    "Obtaining, formatting, and cleaning the data\n",
    "===========\n",
    "Call the function with all stock tickers of interest, return a list, then format list to be readable df. Merge original nasdaq df and our new df. Finally filter the list for interested criteria."
   ]
  },
  {
   "cell_type": "code",
   "execution_count": 20,
   "metadata": {},
   "outputs": [
    {
     "name": "stdout",
     "output_type": "stream",
     "text": [
      "['AAAP', u'$40.57', u'-0.86', u'Price-to-Tangible-Book', u'$40.57', u'-2.16', 'NA']\n",
      "['AABA', u'$58.36', u'-0.02', u'Price-to-Tangible-Book', u'$58.36', u'-0.97', 'NA']\n",
      "['AAL', u'$52.61', u'4.15', 'NA', u'$52.61', 'NA', 'NA']\n",
      "  Symbol                                      Security Name Market Category  \\\n",
      "0   AAAP  Advanced Accelerator Applications S.A. - Ameri...               Q   \n",
      "1   AABA                         Altaba Inc. - Common Stock               Q   \n",
      "2    AAL       American Airlines Group, Inc. - Common Stock               Q   \n",
      "\n",
      "  Test Issue Financial Status  Round Lot Size ETF NextShares   EPS  \\\n",
      "0          N                N           100.0   N          N -0.86   \n",
      "1          N                N           100.0   N          N -0.02   \n",
      "2          N                N           100.0   N          N  4.15   \n",
      "\n",
      "                     PtTB  StockPrice PeterLynchRatio GFStarRanking  \n",
      "0  Price-to-Tangible-Book       40.57           -2.16            NA  \n",
      "1  Price-to-Tangible-Book       58.36           -0.97            NA  \n",
      "2                      NA       52.61              NA            NA  \n"
     ]
    }
   ],
   "source": [
    "\n",
    "ScrapedList =[]\n",
    "\n",
    "#[GuruFocusScrape(ticker) for ticker in df['Symbol']] #loops for entire column of stock symbols, some 10,000\n",
    "GNumber_list = [GuruFocusScrape(ticker, ScrapedList) for ticker in tickers_to_get] #loops over defined number of stock symbols\n",
    "##---- Might try using tickers_to_get.apply(GuruFocusScrape(ticker,Scrapelist), axis=1)\n",
    "\n",
    "\n",
    "#Turn returned scraped data list into a df\n",
    "ScrapedData_df = pd.DataFrame(ScrapedList)\n",
    "ScrapedData_df.columns = (['Symbol', 'EPS', 'PtTB', 'StockPrice', 'PeterLynchRatio', 'GFStarRanking'])\n",
    "\n",
    "##----Comment these\n",
    "ScrapedData_df['StockPrice'] = pd.to_numeric(ScrapedData_df['StockPrice'].str[1::], errors='coerce')\n",
    "ScrapedData_df['EPS'] = pd.to_numeric(ScrapedData_df['EPS'], errors='coerce')\n",
    "#ScrapedData_df['PtTB'] = pd.to_numeric(ScrapedData_df['PtTB'], errors='coerce')\n",
    "#ScrapedData_df['PeterLynchRatio'] = pd.to_numeric(ScrapedData_df['PeterLynchRatio'], errors='coerce')\n",
    "\n",
    "#merge nasdaq_df and ScrapedData_df together on column named Symbol\n",
    "nasdaq_scraped_data_df = pd.merge(nasdaq_info, ScrapedData_df, on='Symbol')\n",
    "\n",
    "##----Comment this\n",
    "nasdaq_scraped_data_df.to_csv('C:\\\\Users\\\\RiggsSc\\\\Documents\\\\SCR\\\\GWest_data\\\\nasdaq_scraped_data.csv')\n",
    "\n",
    "#print(ScrapedData_df)\n",
    "print(nasdaq_scraped_data_df)"
   ]
  },
  {
   "cell_type": "code",
   "execution_count": 37,
   "metadata": {},
   "outputs": [
    {
     "name": "stdout",
     "output_type": "stream",
     "text": [
      "   Symbol                                      Security Name Market Category  \\\n",
      "0    ACFC  Atlantic Coast Financial Corporation - Common ...               G   \n",
      "1    ACGL             Arch Capital Group Ltd. - Common Stock               Q   \n",
      "2   ACGLP  Arch Capital Group Ltd. - Depositary Shares Re...               Q   \n",
      "3    ACHC     Acadia Healthcare Company, Inc. - Common Stock               Q   \n",
      "4    ACHN     Achillion Pharmaceuticals, Inc. - Common Stock               Q   \n",
      "5    ACIA         Acacia Communications, Inc. - Common Stock               Q   \n",
      "6    ACIU                        AC Immune SA - Common Stock               G   \n",
      "7    ACIW                 ACI Worldwide, Inc. - Common Stock               Q   \n",
      "8    ACLS          Axcelis Technologies, Inc. - Common Stock               Q   \n",
      "9    ACNB                    ACNB Corporation - Common Stock               S   \n",
      "10   ACOR           Acorda Therapeutics, Inc. - Common Stock               Q   \n",
      "11   ACRS          Aclaris Therapeutics, Inc. - Common Stock               Q   \n",
      "12   ACRX        AcelRx Pharmaceuticals, Inc. - Common Stock               G   \n",
      "13   ACSF  American Capital Senior Floating, Ltd. - Commo...               Q   \n",
      "14   ACST         Acasti Pharma, Inc. - Class A Common Stock               S   \n",
      "15   ACTA                   Actua Corporation - Common Stock               Q   \n",
      "16   ACTG         Acacia Research Corporation - Common Stock               Q   \n",
      "17   ACTX                         Global X Guru Activist ETF               G   \n",
      "18   ACWI                       iShares MSCI ACWI Index Fund               G   \n",
      "19   ACWX                 iShares MSCI ACWI ex US Index Fund               G   \n",
      "20   ACXM                  Acxiom Corporation - Common Stock               Q   \n",
      "\n",
      "   Test Issue Financial Status  Round Lot Size ETF NextShares  GNumber  \\\n",
      "0           N                N           100.0   N          N      NaN   \n",
      "1           N                N           100.0   N          N    80.07   \n",
      "2           N                N           100.0   N          N      NaN   \n",
      "3           N                N           100.0   N          N      NaN   \n",
      "4           N                N           100.0   N          N      NaN   \n",
      "5           N                N           100.0   N          N    32.19   \n",
      "6           N                N           100.0   N          N      NaN   \n",
      "7           N                N           100.0   N          N      NaN   \n",
      "8           N                N           100.0   N          N    18.44   \n",
      "9           N                N           100.0   N          N    27.79   \n",
      "10          N                N           100.0   N          N      NaN   \n",
      "11          N                N           100.0   N          N      NaN   \n",
      "12          N                N           100.0   N          N      NaN   \n",
      "13          N                N           100.0   N          N    30.92   \n",
      "14          N                N           100.0   N          N      NaN   \n",
      "15          N                N           100.0   N          N      NaN   \n",
      "16          N                N           100.0   N          N      NaN   \n",
      "17          N                N           100.0   Y          N      NaN   \n",
      "18          N                N           100.0   Y          N      NaN   \n",
      "19          N                N           100.0   Y          N      NaN   \n",
      "20          N                N           100.0   N          N     0.73   \n",
      "\n",
      "    Stock Price  \n",
      "0          7.86  \n",
      "1         97.30  \n",
      "2           NaN  \n",
      "3         50.67  \n",
      "4          4.32  \n",
      "5         42.21  \n",
      "6          8.17  \n",
      "7         23.91  \n",
      "8         23.20  \n",
      "9         28.60  \n",
      "10        20.30  \n",
      "11        28.98  \n",
      "12         2.95  \n",
      "13        12.85  \n",
      "14         1.31  \n",
      "15        14.00  \n",
      "16         4.20  \n",
      "17          NaN  \n",
      "18          NaN  \n",
      "19          NaN  \n",
      "20        27.01  \n"
     ]
    }
   ],
   "source": [
    "#Here do all analysis and filter of data\n",
    "print(nasdaq_scraped_data_df)"
   ]
  },
  {
   "cell_type": "code",
   "execution_count": 3,
   "metadata": {},
   "outputs": [
    {
     "name": "stdout",
     "output_type": "stream",
     "text": [
      "<Response [200]>\n"
     ]
    }
   ],
   "source": [
    "import requests\n",
    "\n",
    "url ='http://api.wolframalpha.com/v2/query?appid=DEMO&input=population%20of%20france&output=json'\n",
    "test = requests.get(url)\n",
    "json_data = test.json()\n",
    "print(test)"
   ]
  },
  {
   "cell_type": "code",
   "execution_count": null,
   "metadata": {
    "collapsed": true
   },
   "outputs": [],
   "source": [
    "#fit G. west with r^2 values\n",
    "#will FB-prophet method df.make_future_forecast() help?"
   ]
  }
 ],
 "metadata": {
  "kernelspec": {
   "display_name": "Python 2",
   "language": "python",
   "name": "python2"
  },
  "language_info": {
   "codemirror_mode": {
    "name": "ipython",
    "version": 2
   },
   "file_extension": ".py",
   "mimetype": "text/x-python",
   "name": "python",
   "nbconvert_exporter": "python",
   "pygments_lexer": "ipython2",
   "version": "2.7.13"
  }
 },
 "nbformat": 4,
 "nbformat_minor": 2
}
